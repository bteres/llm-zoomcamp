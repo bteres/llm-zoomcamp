{
 "cells": [
  {
   "cell_type": "code",
   "execution_count": 2,
   "id": "38879560-840e-4b95-9fd1-0170920b4c40",
   "metadata": {},
   "outputs": [],
   "source": [
    "import openai"
   ]
  },
  {
   "cell_type": "code",
   "execution_count": 3,
   "id": "77042631-af97-4de5-af8d-27c2143bf142",
   "metadata": {},
   "outputs": [],
   "source": [
    "from openai import OpenAI"
   ]
  },
  {
   "cell_type": "code",
   "execution_count": 5,
   "id": "3dd6302c-2e83-45c9-823f-7bab90d5fa27",
   "metadata": {},
   "outputs": [],
   "source": [
    "client = OpenAI()"
   ]
  },
  {
   "cell_type": "code",
   "execution_count": 9,
   "id": "cb1c91d4-7a33-44d6-a52a-adbb2ea8ac3c",
   "metadata": {},
   "outputs": [],
   "source": [
    "response = client.chat.completions.create(\n",
    "    model='gpt-4o',\n",
    "    messages=[{\"role\": \"user\", \"content\": \"Is it too late to join the course?\"}]\n",
    ")"
   ]
  },
  {
   "cell_type": "code",
   "execution_count": 13,
   "id": "f91085fe-40b3-4e54-8ffc-32e5829d7b64",
   "metadata": {},
   "outputs": [
    {
     "data": {
      "text/plain": [
       "\"Whether it is too late to join a course depends on several factors, including the specific institution's policies, the timing within the academic calendar, and the course in question. Here are some steps you can take to determine if you can still join the course:\\n\\n1. **Check Enrollment Deadlines:** Look at the course catalog or academic calendar provided by the institution to see the official enrollment deadlines.\\n\\n2. **Contact the Instructor:** Sometimes, instructors have the discretion to allow late enrollments. If you explain your situation, they might accommodate you.\\n\\n3. **Speak with Academic Advisors:** Academic advisors can provide guidance on whether it's possible to join the course late and can help you navigate any potential hurdles.\\n\\n4. **Review Drop/Add Policies:** Institutions often have a drop/add period at the beginning of the term when students can make changes to their schedules without penalty.\\n\\n5. **Consider Catch-Up Work:** Assess whether you can manage the workload if you join the course late. You'll likely need to catch up on missed lectures, assignments, and readings.\\n\\nIf you gather this information and discuss your options with the relevant parties, you should get a clear answer on whether you can still enroll in the course.\""
      ]
     },
     "execution_count": 13,
     "metadata": {},
     "output_type": "execute_result"
    }
   ],
   "source": [
    "response.choices[0].message.content"
   ]
  },
  {
   "cell_type": "code",
   "execution_count": null,
   "id": "28b75095-b982-41f4-b9d0-5eabfa62d10a",
   "metadata": {},
   "outputs": [],
   "source": []
  }
 ],
 "metadata": {
  "kernelspec": {
   "display_name": "Python 3 (ipykernel)",
   "language": "python",
   "name": "python3"
  },
  "language_info": {
   "codemirror_mode": {
    "name": "ipython",
    "version": 3
   },
   "file_extension": ".py",
   "mimetype": "text/x-python",
   "name": "python",
   "nbconvert_exporter": "python",
   "pygments_lexer": "ipython3",
   "version": "3.10.13"
  }
 },
 "nbformat": 4,
 "nbformat_minor": 5
}
